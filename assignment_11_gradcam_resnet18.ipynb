{
 "cells": [
  {
   "cell_type": "code",
   "execution_count": null,
   "metadata": {},
   "outputs": [],
   "source": [
    "!pip install -r ./requirements.txt"
   ]
  },
  {
   "cell_type": "code",
   "execution_count": null,
   "metadata": {},
   "outputs": [],
   "source": [
    "import main\n",
    "from utility import cifar10Utility\n",
    "from utility import imageAugmentationUtility\n",
    "from utility import imageVisualizationUtility"
   ]
  },
  {
   "cell_type": "code",
   "execution_count": null,
   "metadata": {},
   "outputs": [],
   "source": [
    "\n",
    "train_transforms, test_transforms = imageAugmentationUtility.get_cifar10_train_and_test_transforms(cifar10Utility.get_mean(),\n",
    "                                                                                                   cifar10Utility.get_std())\n",
    "\n"
   ]
  },
  {
   "cell_type": "code",
   "execution_count": null,
   "metadata": {},
   "outputs": [],
   "source": [
    "BATCH_SIZE = 512\n",
    "DATA_FOLDER = \"./data\"\n",
    "\n",
    "train_dataset, test_dataset = cifar10Utility.get_datasets(train_transforms_collection=train_transforms,\n",
    "                                                                   test_transforms_collection=test_transforms,\n",
    "                                                                    data_folder=DATA_FOLDER)\n",
    "train_loader, test_loader = cifar10Utility.get_dataloaders(train_dataset=train_dataset,\n",
    "                                                                    test_dataset=test_dataset,\n",
    "                                                                    batch_size=BATCH_SIZE)"
   ]
  },
  {
   "cell_type": "code",
   "execution_count": null,
   "metadata": {},
   "outputs": [],
   "source": [
    "imageVisualizationUtility.randomly_show_images_from_tensor_array(train_dataset, cifar10Utility.get_image_classes(), fig_size=(16,4))"
   ]
  },
  {
   "cell_type": "code",
   "execution_count": null,
   "metadata": {},
   "outputs": [],
   "source": [
    "model = main.get_model_instance(model_type=main.ModelType.RESNET18)\n",
    "optimizer = main.get_adam_optimizer(model)\n",
    "scheduler = main.get_stepLR_scheduler(optimizer)\n",
    "criterion = main.get_cross_entropy_loss_criteria()"
   ]
  },
  {
   "cell_type": "code",
   "execution_count": null,
   "metadata": {},
   "outputs": [],
   "source": [
    "EPOCHS = 2\n",
    "model_executor = main.ModelExecutor(train_loader, test_loader)\n",
    "model_executor.execute(epochs=EPOCHS, model=model, criterion=criterion,\n",
    "                       optimizer=optimizer, scheduler=scheduler)"
   ]
  },
  {
   "cell_type": "code",
   "execution_count": null,
   "metadata": {},
   "outputs": [],
   "source": [
    "print(f\"----****----Wrongly predicted test images: {len(model_executor.wrongly_predicted_test_images)}\")\n",
    "imageVisualizationUtility.show_images_from_tensor_array(model_executor.wrongly_predicted_test_images, cifar10Utility.get_image_classes(), shape=(2,10))\n",
    "\n",
    "print(f\"----****----Correctly predicted test images: {len(model_executor.correctly_predicted_test_images)}\")\n",
    "imageVisualizationUtility.show_images_from_tensor_array(model_executor.correctly_predicted_test_images, cifar10Utility.get_image_classes(), shape=(2,10))"
   ]
  }
 ],
 "metadata": {
  "kernelspec": {
   "display_name": "cuda",
   "language": "python",
   "name": "python3"
  },
  "language_info": {
   "codemirror_mode": {
    "name": "ipython",
    "version": 3
   },
   "file_extension": ".py",
   "mimetype": "text/x-python",
   "name": "python",
   "nbconvert_exporter": "python",
   "pygments_lexer": "ipython3",
   "version": "3.10.13"
  }
 },
 "nbformat": 4,
 "nbformat_minor": 2
}
